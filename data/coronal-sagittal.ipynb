{
 "cells": [
  {
   "cell_type": "code",
   "execution_count": 10,
   "metadata": {},
   "outputs": [],
   "source": [
    "import numpy as np\n",
    "import matplotlib.pyplot as plt\n",
    "import cv2\n",
    "import os\n",
    "import random\n",
    "%matplotlib inline"
   ]
  },
  {
   "cell_type": "code",
   "execution_count": 2,
   "metadata": {},
   "outputs": [
    {
     "data": {
      "text/plain": [
       "\"ct_path = 'D:/Study/Thesis/LiTS/liver-crops-test/ct'\\ntumor_path = 'D:/Study/Thesis/LiTS/liver-crops-test/tumor_seg'\\ncoronal_ct_path = 'D:/Study/Thesis/LiTS/multi-plane/coronal/liver-crops-test/ct'\\ncoronal_tumor_path = 'D:/Study/Thesis/LiTS/multi-plane/coronal/liver-crops-test/tumor_seg'\\nsagittal_ct_path = 'D:/Study/Thesis/LiTS/multi-plane/sagittal/liver-crops-test/ct'\\nsagittal_tumor_path = 'D:/Study/Thesis/LiTS/multi-plane/sagittal/liver-crops-test/tumor_seg'\""
      ]
     },
     "execution_count": 2,
     "metadata": {},
     "output_type": "execute_result"
    }
   ],
   "source": [
    "\"\"\"ct_path = 'D:/Study/Thesis/LiTS/liver-crops-test/ct'\n",
    "tumor_path = 'D:/Study/Thesis/LiTS/liver-crops-test/tumor_seg'\n",
    "coronal_ct_path = 'D:/Study/Thesis/LiTS/multi-plane/coronal/liver-crops-test/ct'\n",
    "coronal_tumor_path = 'D:/Study/Thesis/LiTS/multi-plane/coronal/liver-crops-test/tumor_seg'\n",
    "sagittal_ct_path = 'D:/Study/Thesis/LiTS/multi-plane/sagittal/liver-crops-test/ct'\n",
    "sagittal_tumor_path = 'D:/Study/Thesis/LiTS/multi-plane/sagittal/liver-crops-test/tumor_seg'\"\"\""
   ]
  },
  {
   "cell_type": "code",
   "execution_count": 3,
   "metadata": {},
   "outputs": [
    {
     "data": {
      "text/plain": [
       "\"def get_patient_list(list):\\n  patient_id_list = []\\n  for i in range(len(list)):\\n    patient_id_list.append((list[i].split('-')[1]).split('_')[0])\\n  patient_list = np.unique(patient_id_list)\\n  return patient_list\\n\\ndef get_sort_list(list):\\n  sort_list= []\\n  for i in list:\\n    sort_list.append(int(i.split('_')[1].split('.')[0]))\\n  sort_list.sort()\\n  return sort_list\""
      ]
     },
     "execution_count": 3,
     "metadata": {},
     "output_type": "execute_result"
    }
   ],
   "source": [
    "\"\"\"def get_patient_list(list):\n",
    "  patient_id_list = []\n",
    "  for i in range(len(list)):\n",
    "    patient_id_list.append((list[i].split('-')[1]).split('_')[0])\n",
    "  patient_list = np.unique(patient_id_list)\n",
    "  return patient_list\n",
    "\n",
    "def get_sort_list(list):\n",
    "  sort_list= []\n",
    "  for i in list:\n",
    "    sort_list.append(int(i.split('_')[1].split('.')[0]))\n",
    "  sort_list.sort()\n",
    "  return sort_list\"\"\"\n"
   ]
  },
  {
   "cell_type": "code",
   "execution_count": 4,
   "metadata": {},
   "outputs": [
    {
     "data": {
      "text/plain": [
       "'patient_list = get_patient_list(os.listdir(ct_path))'"
      ]
     },
     "execution_count": 4,
     "metadata": {},
     "output_type": "execute_result"
    }
   ],
   "source": [
    "\"\"\"patient_list = get_patient_list(os.listdir(ct_path))\"\"\""
   ]
  },
  {
   "cell_type": "code",
   "execution_count": 5,
   "metadata": {},
   "outputs": [
    {
     "data": {
      "text/plain": [
       "\"for k in patient_list:\\n  slice_list = []\\n  for file in os.listdir(ct_path):\\n    if f'volume-{k}' == file.split('_')[0]:\\n      slice_list.append(file)\\n  img = cv2.imread(os.path.join(ct_path, slice_list[0]))\\n  h, w = len(img), len(img[0])\\n  img_arr = np.zeros((len(slice_list), h, w, 3)).astype('uint8')\\n  mask_arr = np.zeros((len(slice_list), h, w)).astype('uint8')\\n  for i, idx in enumerate(get_sort_list(slice_list)):\\n    print(i, idx)\\n    img_arr[i] = cv2.imread(os.path.join(ct_path, f'volume-{k}_{idx}.png'))\\n    mask_arr[i] = cv2.imread(os.path.join(tumor_path, f'segmentation-{k}_{idx}.png'), cv2.IMREAD_GRAYSCALE)\\n\\n  for i in range(h):\\n    cv2.imwrite(os.path.join(coronal_ct_path, f'volume-{k}_{i}.png'), img_arr[:,i,:,:])\\n    cv2.imwrite(os.path.join(coronal_tumor_path, f'segmentation-{k}_{i}.png'), mask_arr[:,i,:])\\n  for i in range(w):\\n    cv2.imwrite(os.path.join(sagittal_ct_path, f'volume-{k}_{i}.png'), img_arr[:,:,i,:])\\n    cv2.imwrite(os.path.join(sagittal_tumor_path, f'segmentation-{k}_{i}.png'), mask_arr[:,:,i])\""
      ]
     },
     "execution_count": 5,
     "metadata": {},
     "output_type": "execute_result"
    }
   ],
   "source": [
    "\"\"\"for k in patient_list:\n",
    "  slice_list = []\n",
    "  for file in os.listdir(ct_path):\n",
    "    if f'volume-{k}' == file.split('_')[0]:\n",
    "      slice_list.append(file)\n",
    "  img = cv2.imread(os.path.join(ct_path, slice_list[0]))\n",
    "  h, w = len(img), len(img[0])\n",
    "  img_arr = np.zeros((len(slice_list), h, w, 3)).astype('uint8')\n",
    "  mask_arr = np.zeros((len(slice_list), h, w)).astype('uint8')\n",
    "  for i, idx in enumerate(get_sort_list(slice_list)):\n",
    "    print(i, idx)\n",
    "    img_arr[i] = cv2.imread(os.path.join(ct_path, f'volume-{k}_{idx}.png'))\n",
    "    mask_arr[i] = cv2.imread(os.path.join(tumor_path, f'segmentation-{k}_{idx}.png'), cv2.IMREAD_GRAYSCALE)\n",
    "\n",
    "  for i in range(h):\n",
    "    cv2.imwrite(os.path.join(coronal_ct_path, f'volume-{k}_{i}.png'), img_arr[:,i,:,:])\n",
    "    cv2.imwrite(os.path.join(coronal_tumor_path, f'segmentation-{k}_{i}.png'), mask_arr[:,i,:])\n",
    "  for i in range(w):\n",
    "    cv2.imwrite(os.path.join(sagittal_ct_path, f'volume-{k}_{i}.png'), img_arr[:,:,i,:])\n",
    "    cv2.imwrite(os.path.join(sagittal_tumor_path, f'segmentation-{k}_{i}.png'), mask_arr[:,:,i])\"\"\""
   ]
  },
  {
   "cell_type": "code",
   "execution_count": 14,
   "metadata": {},
   "outputs": [],
   "source": [
    "train_path = 'D:/Study/Thesis/LiTS/multi-plane/sagittal/liver-crops-train'\n",
    "valid_path = 'D:/Study/Thesis/LiTS/multi-plane/sagittal/liver-crops-valid'\n",
    "train_ct_path = os.path.join(train_path, 'ct')\n",
    "valid_ct_path = os.path.join(valid_path, 'ct')\n",
    "train_tumor_path = os.path.join(train_path, 'tumor_seg')\n",
    "valid_tumor_path = os.path.join(valid_path, 'tumor_seg')"
   ]
  },
  {
   "cell_type": "code",
   "execution_count": 15,
   "metadata": {},
   "outputs": [
    {
     "name": "stdout",
     "output_type": "stream",
     "text": [
      "Number of tumor slices: 8931\n",
      "Number of non tumor slices: 20215\n"
     ]
    }
   ],
   "source": [
    "train_filenames = os.listdir(train_tumor_path)\n",
    "train_tumor_slices = []\n",
    "train_non_tumor_slices = []\n",
    "for filename in train_filenames:\n",
    "    slice = cv2.imread(os.path.join(train_tumor_path, filename), cv2.IMREAD_GRAYSCALE)\n",
    "    if slice.sum() == 0:\n",
    "        train_non_tumor_slices.append(filename)\n",
    "    else:\n",
    "        train_tumor_slices.append(filename)\n",
    "\n",
    "print('Number of tumor slices:', len(train_tumor_slices))\n",
    "print('Number of non tumor slices:', len(train_non_tumor_slices))"
   ]
  },
  {
   "cell_type": "code",
   "execution_count": 16,
   "metadata": {},
   "outputs": [
    {
     "name": "stdout",
     "output_type": "stream",
     "text": [
      "Number of tumor slices: 2089\n",
      "Number of non tumor slices: 2361\n"
     ]
    }
   ],
   "source": [
    "valid_filenames = os.listdir(valid_tumor_path)\n",
    "valid_tumor_slices = []\n",
    "valid_non_tumor_slices = []\n",
    "for filename in valid_filenames:\n",
    "    slice = cv2.imread(os.path.join(valid_tumor_path, filename), cv2.IMREAD_GRAYSCALE)\n",
    "    if slice.sum() == 0:\n",
    "        valid_non_tumor_slices.append(filename)\n",
    "    else:\n",
    "        valid_tumor_slices.append(filename)\n",
    "\n",
    "print('Number of tumor slices:', len(valid_tumor_slices))\n",
    "print('Number of non tumor slices:', len(valid_non_tumor_slices))"
   ]
  },
  {
   "cell_type": "code",
   "execution_count": 17,
   "metadata": {},
   "outputs": [
    {
     "name": "stdout",
     "output_type": "stream",
     "text": [
      "10000 2500\n"
     ]
    }
   ],
   "source": [
    "random.shuffle(train_non_tumor_slices)\n",
    "train_non_tumor_slices = train_non_tumor_slices[:5000]\n",
    "random.shuffle(train_tumor_slices)\n",
    "train_tumor_slices = train_tumor_slices[:5000]\n",
    "train_tumor_list = train_tumor_slices + train_non_tumor_slices\n",
    "\n",
    "random.shuffle(valid_non_tumor_slices)\n",
    "valid_non_tumor_slices = valid_non_tumor_slices[:1250]\n",
    "random.shuffle(valid_tumor_slices)\n",
    "valid_tumor_slices = valid_tumor_slices[:1250]\n",
    "valid_tumor_list = valid_tumor_slices + valid_non_tumor_slices\n",
    "\n",
    "print(len(train_tumor_list), len(valid_tumor_list))"
   ]
  },
  {
   "cell_type": "code",
   "execution_count": 12,
   "metadata": {},
   "outputs": [],
   "source": [
    "train_ct_images = \"D:/Study/Thesis/LiTS/tumor_seg_multiplane/tumor_seg_sagittal/train/CT_images/ct_images\"\n",
    "train_tumor_masks = \"D:/Study/Thesis/LiTS/tumor_seg_multiplane/tumor_seg_sagittal/train/Tumor_masks/tumor_masks\"\n",
    "valid_ct_images = \"D:/Study/Thesis/LiTS/tumor_seg_multiplane/tumor_seg_sagittal/valid/CT_images/ct_images\"\n",
    "valid_tumor_masks = \"D:/Study/Thesis/LiTS/tumor_seg_multiplane/tumor_seg_sagittal/valid/Tumor_masks/tumor_masks\""
   ]
  },
  {
   "cell_type": "code",
   "execution_count": 13,
   "metadata": {},
   "outputs": [],
   "source": [
    "for filename in train_tumor_list:\n",
    "    image = cv2.imread(os.path.join(train_ct_path, filename.replace('segmentation', 'volume')))\n",
    "\n",
    "    tumor_mask = cv2.imread(os.path.join(train_tumor_path, filename), cv2.IMREAD_GRAYSCALE)\n",
    "    \n",
    "    cv2.imwrite(os.path.join(train_ct_images, filename.replace('segmentation', 'volume')), image)\n",
    "    cv2.imwrite(os.path.join(train_tumor_masks, filename), tumor_mask)\n",
    "\n",
    "for filename in valid_tumor_list:\n",
    "    image = cv2.imread(os.path.join(valid_ct_path, filename.replace('segmentation', 'volume')))\n",
    "\n",
    "    tumor_mask = cv2.imread(os.path.join(valid_tumor_path, filename), cv2.IMREAD_GRAYSCALE)\n",
    "    \n",
    "    cv2.imwrite(os.path.join(valid_ct_images, filename.replace('segmentation', 'volume')), image)\n",
    "    cv2.imwrite(os.path.join(valid_tumor_masks, filename), tumor_mask)"
   ]
  },
  {
   "cell_type": "code",
   "execution_count": null,
   "metadata": {},
   "outputs": [],
   "source": []
  }
 ],
 "metadata": {
  "interpreter": {
   "hash": "40e2417bbb19b363630d88d5c427df88b0009bb717a0cfab403dbb039b99e171"
  },
  "kernelspec": {
   "display_name": "Python 3.9.7 ('base')",
   "language": "python",
   "name": "python3"
  },
  "language_info": {
   "codemirror_mode": {
    "name": "ipython",
    "version": 3
   },
   "file_extension": ".py",
   "mimetype": "text/x-python",
   "name": "python",
   "nbconvert_exporter": "python",
   "pygments_lexer": "ipython3",
   "version": "3.9.7"
  },
  "orig_nbformat": 4
 },
 "nbformat": 4,
 "nbformat_minor": 2
}
